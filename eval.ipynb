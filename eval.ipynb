{
 "cells": [
  {
   "cell_type": "code",
   "execution_count": 1,
   "id": "a05410cf-7ce2-4c0b-b890-8d7b5db30e4a",
   "metadata": {},
   "outputs": [],
   "source": [
    "import torch\n",
    "from supervoice_gpt import SupervoiceGPT, Tokenizer, config"
   ]
  },
  {
   "cell_type": "code",
   "execution_count": 2,
   "id": "643b57d0-a798-4c58-ad76-4e97f417114d",
   "metadata": {},
   "outputs": [
    {
     "name": "stdout",
     "output_type": "stream",
     "text": [
      "232000\n"
     ]
    }
   ],
   "source": [
    "# Model\n",
    "device = \"cpu\"\n",
    "tokenizer = Tokenizer(config, \"tokenizer_text.model\")\n",
    "model = SupervoiceGPT(config).to(device)\n",
    "checkpoint = torch.load(f'./output/big_dataset.pt', map_location=device)\n",
    "model.load_state_dict(checkpoint['model'])\n",
    "model.eval()\n",
    "print(checkpoint['step'])"
   ]
  },
  {
   "cell_type": "code",
   "execution_count": 12,
   "id": "dd6c7833-e426-4c8b-81e3-364c512bd260",
   "metadata": {},
   "outputs": [
    {
     "name": "stdout",
     "output_type": "stream",
     "text": [
      "[('w', 5, 255), ('ɐ', 5, 255), ('ʔ', 4, 255), ('<SIL>', 0, 255), ('d', 2, 255), ('ʉː', 3, 255), ('<SIL>', 0, 255), ('j', 3, 255), ('ʉː', 4, 255), ('<SIL>', 0, 255), ('w', 4, 255), ('ɒ', 8, 252), ('n', 4, 231), ('<SIL>', 0, 192), ('tʰ', 6, 176), ('ʊ', 3, 171), ('<SIL>', 0, 170), ('d', 4, 168), ('ʉː', 8, 161), ('<SIL>', 0, 157), ('tʰ', 8, 151), ('ə', 2, 143), ('d', 5, 138), ('ej', 27, 112), ('<SIL>', 26, 85), ('aj', 10, 86), ('<SIL>', 0, 87), ('w', 7, 88), ('ɒ', 6, 88), ('n', 5, 87), ('t', 0, 88), ('<SIL>', 0, 88), ('t', 3, 88), ('ə', 4, 90), ('<SIL>', 0, 91), ('p', 7, 92), ('l', 3, 94), ('ej', 6, 96), ('<SIL>', 0, 98), ('f', 11, 101), ('ʊ', 6, 106), ('t', 8, 109), ('b', 4, 113), ('ɒ', 3, 117), ('ɫ', 7, 121), ('<SIL>', 0, 125), ('w', 6, 125), ('ɪ', 3, 114), ('θ', 7, 104), ('<SIL>', 0, 102), ('m', 3, 102), ('aj', 9, 100), ('<SIL>', 0, 98), ('f', 9, 95), ('ɹ', 4, 93), ('ɛ', 10, 88), ('n', 8, 88), ('z', 17, 86)]\n",
      "58\n"
     ]
    }
   ],
   "source": [
    "tokens = model.generate(\"What do you want to do today? I want to play football with my friends.\", tokenizer, max_new_tokens = 256, top_k = 6, device = device)\n",
    "print(tokens)\n",
    "print(len(tokens))"
   ]
  },
  {
   "cell_type": "code",
   "execution_count": 4,
   "id": "57115615-639b-4516-ac9b-422561ffed76",
   "metadata": {},
   "outputs": [],
   "source": [
    "# input = \"Hey, you?\"\n",
    "# ctx_tokens = ['ç', 'ɪ']\n",
    "# ctx_durations = [8, 10]\n",
    "# probs, p = model.predict_next(input, ctx_tokens, ctx_durations, tokenizer)\n",
    "# for i in range(len(probs)):\n",
    "#     print(p[i] + \": \"+ str(probs[i]))\n"
   ]
  },
  {
   "cell_type": "code",
   "execution_count": null,
   "id": "557d9a12-c68a-4f97-935a-0b4652fbceaa",
   "metadata": {},
   "outputs": [],
   "source": []
  }
 ],
 "metadata": {
  "kernelspec": {
   "display_name": "Python 3 (ipykernel)",
   "language": "python",
   "name": "python3"
  },
  "language_info": {
   "codemirror_mode": {
    "name": "ipython",
    "version": 3
   },
   "file_extension": ".py",
   "mimetype": "text/x-python",
   "name": "python",
   "nbconvert_exporter": "python",
   "pygments_lexer": "ipython3",
   "version": "3.10.13"
  }
 },
 "nbformat": 4,
 "nbformat_minor": 5
}
