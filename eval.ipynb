{
 "cells": [
  {
   "cell_type": "code",
   "execution_count": 5,
   "id": "a05410cf-7ce2-4c0b-b890-8d7b5db30e4a",
   "metadata": {},
   "outputs": [],
   "source": [
    "import torch\n",
    "from supervoice_gpt import SupervoiceGPT, Tokenizer, config"
   ]
  },
  {
   "cell_type": "code",
   "execution_count": 6,
   "id": "643b57d0-a798-4c58-ad76-4e97f417114d",
   "metadata": {},
   "outputs": [
    {
     "name": "stdout",
     "output_type": "stream",
     "text": [
      "255000\n"
     ]
    }
   ],
   "source": [
    "device = \"cpu\"\n",
    "\n",
    "# To load from torch hub\n",
    "# model = torch.hub.load(repo_or_dir='ex3ndr/supervoice-gpt', model='phonemizer', force_reload = True)\n",
    "# model.to(device)\n",
    "# print(\"ok\")\n",
    "\n",
    "# To load local uncomment this\n",
    "tokenizer = Tokenizer(config, \"tokenizer_text.model\")\n",
    "model = SupervoiceGPT(tokenizer, config).to(device)\n",
    "checkpoint = torch.load(f'./output/big_dataset.pt', map_location=device)\n",
    "model.load_state_dict(checkpoint['model'])\n",
    "model.eval()\n",
    "print(checkpoint['step'])"
   ]
  },
  {
   "cell_type": "code",
   "execution_count": 7,
   "id": "dd6c7833-e426-4c8b-81e3-364c512bd260",
   "metadata": {},
   "outputs": [
    {
     "name": "stdout",
     "output_type": "stream",
     "text": [
      "Total number of tokens: 21\n",
      "Tokens: [('ç', 12, 96), ('ej', 14, 96), ('<SIL>', 0, 98), ('v', 6, 101), ('ɛ', 8, 101), ('ɹ', 9, 95), ('ə', 4, 97), ('<SIL>', 0, 97), ('w', 10, 98), ('ɐ', 4, 98), ('ʔ', 6, 96), ('<SIL>', 0, 96), ('tʰ', 10, 98), ('aj', 9, 98), ('m', 5, 100), ('<SIL>', 0, 101), ('ɪ', 5, 100), ('z', 6, 97), ('<SIL>', 0, 95), ('ɪ', 9, 94), ('ʔ', 6, 122)]\n"
     ]
    }
   ],
   "source": [
    "cond_text = \"Hey, Vera, what time is it?\"\n",
    "cond_tokens = [('ç', 6, 105), ('ej', 13, 107), ('<SIL>', 0, 109), ('v', 7, 104), ('ɛ', 9, 97), ('ɹ', 7, 95), ('ə', 18, 94), ('<SIL>', 3, 95), ('w', 5, 94), ('ɐ', 4, 94), ('ʔ', 4, 94), ('<SIL>', 0, 94), ('tʰ', 9, 94), ('aj', 7, 93), ('m', 6, 95), ('<SIL>', 0, 98), ('ɪ', 5, 99), ('z', 7, 99), ('<SIL>', 0, 98), ('ɪ', 11, 96), ('ʔ', 9, 96)]\n",
    "cond = (cond_text, cond_tokens)\n",
    "\n",
    "output = model.generate(\"Hey, Vera, what time is it?\", conditioning = cond, max_new_tokens = 256, top_k = 6)\n",
    "tokens = output['output']\n",
    "print(\"Total number of tokens:\", len(tokens))\n",
    "print(\"Tokens:\", tokens)"
   ]
  },
  {
   "cell_type": "code",
   "execution_count": 8,
   "id": "38ed6b5d-c376-4983-b398-547cf9a032a5",
   "metadata": {},
   "outputs": [
    {
     "data": {
      "text/plain": [
       "3"
      ]
     },
     "execution_count": 8,
     "metadata": {},
     "output_type": "execute_result"
    }
   ],
   "source": [
    "model.tokenizer.silence_token_id"
   ]
  },
  {
   "cell_type": "code",
   "execution_count": null,
   "id": "6f193ee9-1e95-41d5-832f-d1aa54173133",
   "metadata": {},
   "outputs": [],
   "source": []
  }
 ],
 "metadata": {
  "kernelspec": {
   "display_name": "Python 3 (ipykernel)",
   "language": "python",
   "name": "python3"
  },
  "language_info": {
   "codemirror_mode": {
    "name": "ipython",
    "version": 3
   },
   "file_extension": ".py",
   "mimetype": "text/x-python",
   "name": "python",
   "nbconvert_exporter": "python",
   "pygments_lexer": "ipython3",
   "version": "3.10.13"
  }
 },
 "nbformat": 4,
 "nbformat_minor": 5
}
