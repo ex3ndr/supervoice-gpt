{
 "cells": [
  {
   "cell_type": "code",
   "execution_count": 1,
   "id": "a05410cf-7ce2-4c0b-b890-8d7b5db30e4a",
   "metadata": {},
   "outputs": [],
   "source": [
    "import torch\n",
    "from supervoice_gpt import SupervoiceGPT, Tokenizer, config"
   ]
  },
  {
   "cell_type": "code",
   "execution_count": 2,
   "id": "643b57d0-a798-4c58-ad76-4e97f417114d",
   "metadata": {},
   "outputs": [
    {
     "name": "stdout",
     "output_type": "stream",
     "text": [
      "ok\n"
     ]
    }
   ],
   "source": [
    "# Model\n",
    "tokenizer = Tokenizer(config, \"tokenizer_text.model\")\n",
    "model = SupervoiceGPT(config)\n",
    "checkpoint = torch.load(f'./output/pitch-2.pt', map_location=\"cpu\")\n",
    "model.load_state_dict(checkpoint['model'])\n",
    "model.eval()\n",
    "print('ok')"
   ]
  },
  {
   "cell_type": "code",
   "execution_count": 3,
   "id": "dd6c7833-e426-4c8b-81e3-364c512bd260",
   "metadata": {},
   "outputs": [
    {
     "name": "stdout",
     "output_type": "stream",
     "text": [
      "[('c', 11, 0), ('ʎ', 3, 0), ('ɪ', 3, 0), ('c', 8, 0), ('ɪ', 5, 0), ('ŋ', 6, 0), ('•', 0, 0), ('ɒ', 6, 0), ('n', 6, 0), ('•', 0, 0), ('ɛ', 9, 0), ('ɲ', 6, 0), ('i', 6, 175), ('•', 0, 0), ('s', 13, 175), ('æ', 9, 177), ('m', 7, 174), ('p', 6, 0), ('ə', 3, 0), ('ɫ', 7, 172), ('•', 0, 0), ('w', 5, 171), ('ɪ', 3, 0), ('ɫ', 4, 0), ('•', 0, 0), ('ɒ', 14, 0), ('t', 3, 168), ('ə', 4, 170), ('m', 7, 0), ('æ', 10, 173), ('tʲ', 3, 173), ('ɪ', 4, 174), ('c', 11, 175), ('ʎ', 3, 176), ('i', 4, 176), ('•', 0, 0), ('pʰ', 13, 177), ('ɑː', 16, 174), ('z', 9, 0), ('•', 0, 0), ('d̪', 3, 0), ('iː', 3, 0), ('•', 0, 0), ('ɐ', 6, 0), ('ð', 3, 171), ('ɚ', 5, 170), ('•', 0, 0), ('s', 11, 0), ('æ', 6, 0), ('m', 5, 0), ('p', 6, 0), ('ə', 3, 0), ('ɫ', 5, 0), ('z', 12, 0), ('•', 0, 0), ('aj', 13, 0), ('ɹ', 17, 0)]\n"
     ]
    }
   ],
   "source": [
    "tokens = model.generate(\"Clicking on any sample will automatically pause the other samples :)\", tokenizer, max_new_tokens = 64, top_k = 6)\n",
    "print(tokens)"
   ]
  },
  {
   "cell_type": "code",
   "execution_count": 4,
   "id": "57115615-639b-4516-ac9b-422561ffed76",
   "metadata": {},
   "outputs": [],
   "source": [
    "# input = \"Hey, you?\"\n",
    "# ctx_tokens = ['ç', 'ɪ']\n",
    "# ctx_durations = [8, 10]\n",
    "# probs, p = model.predict_next(input, ctx_tokens, ctx_durations, tokenizer)\n",
    "# for i in range(len(probs)):\n",
    "#     print(p[i] + \": \"+ str(probs[i]))\n"
   ]
  },
  {
   "cell_type": "code",
   "execution_count": null,
   "id": "557d9a12-c68a-4f97-935a-0b4652fbceaa",
   "metadata": {},
   "outputs": [],
   "source": []
  }
 ],
 "metadata": {
  "kernelspec": {
   "display_name": "Python 3 (ipykernel)",
   "language": "python",
   "name": "python3"
  },
  "language_info": {
   "codemirror_mode": {
    "name": "ipython",
    "version": 3
   },
   "file_extension": ".py",
   "mimetype": "text/x-python",
   "name": "python",
   "nbconvert_exporter": "python",
   "pygments_lexer": "ipython3",
   "version": "3.10.13"
  }
 },
 "nbformat": 4,
 "nbformat_minor": 5
}
