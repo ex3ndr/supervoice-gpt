{
 "cells": [
  {
   "cell_type": "code",
   "execution_count": 1,
   "id": "a05410cf-7ce2-4c0b-b890-8d7b5db30e4a",
   "metadata": {},
   "outputs": [],
   "source": [
    "import torch\n",
    "from supervoice_gpt import SupervoiceGPT, Tokenizer, config"
   ]
  },
  {
   "cell_type": "code",
   "execution_count": 2,
   "id": "643b57d0-a798-4c58-ad76-4e97f417114d",
   "metadata": {},
   "outputs": [
    {
     "name": "stdout",
     "output_type": "stream",
     "text": [
      "ok\n"
     ]
    }
   ],
   "source": [
    "# Model\n",
    "device = \"cpu\"\n",
    "tokenizer = Tokenizer(config, \"tokenizer_text.model\")\n",
    "model = SupervoiceGPT(config).to(device)\n",
    "checkpoint = torch.load(f'./output/big_dataset.pt', map_location=device)\n",
    "model.load_state_dict(checkpoint['model'])\n",
    "model.eval()\n",
    "print('ok')"
   ]
  },
  {
   "cell_type": "code",
   "execution_count": 10,
   "id": "dd6c7833-e426-4c8b-81e3-364c512bd260",
   "metadata": {},
   "outputs": [
    {
     "name": "stdout",
     "output_type": "stream",
     "text": [
      "[('l', 9, 108), ('ɐ', 8, 111), ('n', 6, 122), ('d', 2, 123), ('ə', 7, 120), ('n', 6, 118), ('<SIL>', 0, 118), ('ɪ', 6, 116), ('z', 5, 112), ('<SIL>', 0, 107), ('ə', 6, 104), ('<SIL>', 0, 108), ('cʰ', 9, 104), ('æ', 9, 111), ('pʲ', 8, 109), ('ɪ', 3, 111), ('t', 3, 112), ('ə', 5, 111), ('ɫ', 7, 108), ('<SIL>', 0, 110), ('ə', 7, 107), ('v', 5, 104), ('<SIL>', 0, 103), ('ɟ', 6, 103), ('ɹ', 4, 99), ('ej', 11, 105), ('t', 4, 107), ('<SIL>', 0, 107), ('b', 4, 107), ('ɹ', 5, 106), ('ɪ', 5, 106), ('t', 4, 105), ('ə', 3, 100), ('n', 12, 101)]\n"
     ]
    }
   ],
   "source": [
    "tokens = model.generate(\"London is a capital of great britain!\", tokenizer, max_new_tokens = 256, top_k = 6, device = device)\n",
    "print(tokens)"
   ]
  },
  {
   "cell_type": "code",
   "execution_count": 4,
   "id": "57115615-639b-4516-ac9b-422561ffed76",
   "metadata": {},
   "outputs": [],
   "source": [
    "# input = \"Hey, you?\"\n",
    "# ctx_tokens = ['ç', 'ɪ']\n",
    "# ctx_durations = [8, 10]\n",
    "# probs, p = model.predict_next(input, ctx_tokens, ctx_durations, tokenizer)\n",
    "# for i in range(len(probs)):\n",
    "#     print(p[i] + \": \"+ str(probs[i]))\n"
   ]
  },
  {
   "cell_type": "code",
   "execution_count": null,
   "id": "557d9a12-c68a-4f97-935a-0b4652fbceaa",
   "metadata": {},
   "outputs": [],
   "source": []
  }
 ],
 "metadata": {
  "kernelspec": {
   "display_name": "Python 3 (ipykernel)",
   "language": "python",
   "name": "python3"
  },
  "language_info": {
   "codemirror_mode": {
    "name": "ipython",
    "version": 3
   },
   "file_extension": ".py",
   "mimetype": "text/x-python",
   "name": "python",
   "nbconvert_exporter": "python",
   "pygments_lexer": "ipython3",
   "version": "3.10.13"
  }
 },
 "nbformat": 4,
 "nbformat_minor": 5
}
